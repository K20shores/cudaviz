{
 "cells": [
  {
   "cell_type": "code",
   "execution_count": 2,
   "id": "47baf056",
   "metadata": {},
   "outputs": [
    {
     "ename": "ModuleNotFoundError",
     "evalue": "No module named '_cudaviz'",
     "output_type": "error",
     "traceback": [
      "\u001b[0;31m---------------------------------------------------------------------------\u001b[0m",
      "\u001b[0;31mModuleNotFoundError\u001b[0m                       Traceback (most recent call last)",
      "Cell \u001b[0;32mIn[2], line 4\u001b[0m\n\u001b[1;32m      2\u001b[0m \u001b[38;5;28;01mimport\u001b[39;00m \u001b[38;5;21;01mmatplotlib\u001b[39;00m\u001b[38;5;21;01m.\u001b[39;00m\u001b[38;5;21;01mpyplot\u001b[39;00m \u001b[38;5;28;01mas\u001b[39;00m \u001b[38;5;21;01mplt\u001b[39;00m\n\u001b[1;32m      3\u001b[0m \u001b[38;5;28;01mfrom\u001b[39;00m \u001b[38;5;21;01mmatplotlib\u001b[39;00m\u001b[38;5;21;01m.\u001b[39;00m\u001b[38;5;21;01mcolors\u001b[39;00m \u001b[38;5;28;01mimport\u001b[39;00m LinearSegmentedColormap\n\u001b[0;32m----> 4\u001b[0m \u001b[38;5;28;01mfrom\u001b[39;00m \u001b[38;5;21;01mcudaviz\u001b[39;00m\u001b[38;5;21;01m.\u001b[39;00m\u001b[38;5;21;01mmandelbrot\u001b[39;00m \u001b[38;5;28;01mimport\u001b[39;00m mandelbrot\n\u001b[1;32m      5\u001b[0m \u001b[38;5;28;01mimport\u001b[39;00m \u001b[38;5;21;01mnumpy\u001b[39;00m \u001b[38;5;28;01mas\u001b[39;00m \u001b[38;5;21;01mnp\u001b[39;00m\n",
      "File \u001b[0;32m~/Documents/cuda/cudaviz/__init__.py:1\u001b[0m\n\u001b[0;32m----> 1\u001b[0m \u001b[38;5;28;01mfrom\u001b[39;00m \u001b[38;5;21;01m_cudaviz\u001b[39;00m \u001b[38;5;28;01mimport\u001b[39;00m \u001b[38;5;241m*\u001b[39m\n",
      "\u001b[0;31mModuleNotFoundError\u001b[0m: No module named '_cudaviz'"
     ]
    }
   ],
   "source": [
    "import matplotlib\n",
    "import matplotlib.pyplot as plt\n",
    "from matplotlib.colors import LinearSegmentedColormap\n",
    "from cudaviz.mandelbrot import mandelbrot\n",
    "import numpy as np"
   ]
  },
  {
   "cell_type": "code",
   "execution_count": null,
   "id": "3cb02f8a",
   "metadata": {},
   "outputs": [],
   "source": [
    "colors = ['#76b900', '#000000'][::-1]\n",
    "cmap = LinearSegmentedColormap.from_list(\"black_to_nvidia_green\", colors)"
   ]
  },
  {
   "cell_type": "code",
   "execution_count": 1,
   "id": "9477a682",
   "metadata": {},
   "outputs": [
    {
     "ename": "NameError",
     "evalue": "name 'plt' is not defined",
     "output_type": "error",
     "traceback": [
      "\u001b[0;31m---------------------------------------------------------------------------\u001b[0m",
      "\u001b[0;31mNameError\u001b[0m                                 Traceback (most recent call last)",
      "Cell \u001b[0;32mIn[1], line 9\u001b[0m\n\u001b[1;32m      6\u001b[0m y_center \u001b[38;5;241m=\u001b[39m \u001b[38;5;241m0.35\u001b[39m\n\u001b[1;32m      7\u001b[0m zoom \u001b[38;5;241m=\u001b[39m \u001b[38;5;241m0.1\u001b[39m\n\u001b[0;32m----> 9\u001b[0m fig, ax \u001b[38;5;241m=\u001b[39m \u001b[43mplt\u001b[49m\u001b[38;5;241m.\u001b[39mplot(dpi\u001b[38;5;241m=\u001b[39m\u001b[38;5;241m300\u001b[39m)\n\u001b[1;32m     11\u001b[0m grid \u001b[38;5;241m=\u001b[39m mandelbrot(N\u001b[38;5;241m=\u001b[39mn, max_iter\u001b[38;5;241m=\u001b[39mmax_iter, x_center\u001b[38;5;241m=\u001b[39mx_center, y_center\u001b[38;5;241m=\u001b[39my_center, zoom\u001b[38;5;241m=\u001b[39mzoom)\n\u001b[1;32m     12\u001b[0m ax\u001b[38;5;241m.\u001b[39mimshow(grid, cmap\u001b[38;5;241m=\u001b[39mcmap)\n",
      "\u001b[0;31mNameError\u001b[0m: name 'plt' is not defined"
     ]
    }
   ],
   "source": [
    "N=10000\n",
    "max_iter=100\n",
    "# x_center = -0.75\n",
    "# y_center = 0.0\n",
    "x_center = -0.7\n",
    "y_center = 0.35\n",
    "zoom = 0.1\n",
    "\n",
    "fig, ax = plt.plot(dpi=300)\n",
    "\n",
    "grid = mandelbrot(N=n, max_iter=max_iter, x_center=x_center, y_center=y_center, zoom=zoom)\n",
    "ax.imshow(grid, cmap=cmap)\n",
    "ax.spines[:].set_visible(False)\n",
    "ax.tick_params(width=0)\n",
    "ax.set_xticks([])\n",
    "ax.set_yticks([])\n",
    "self.mpl_canvas.draw()"
   ]
  },
  {
   "cell_type": "code",
   "execution_count": null,
   "id": "7b90fd6c",
   "metadata": {},
   "outputs": [],
   "source": []
  }
 ],
 "metadata": {
  "kernelspec": {
   "display_name": "Python 3 (ipykernel)",
   "language": "python",
   "name": "python3"
  },
  "language_info": {
   "codemirror_mode": {
    "name": "ipython",
    "version": 3
   },
   "file_extension": ".py",
   "mimetype": "text/x-python",
   "name": "python",
   "nbconvert_exporter": "python",
   "pygments_lexer": "ipython3",
   "version": "3.12.3"
  }
 },
 "nbformat": 4,
 "nbformat_minor": 5
}
